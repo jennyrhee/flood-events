{
 "cells": [
  {
   "cell_type": "code",
   "execution_count": 1,
   "metadata": {},
   "outputs": [],
   "source": [
    "import pandas as pd\n",
    "import numpy as np\n",
    "import matplotlib.pyplot as plt\n",
    "\n",
    "from sklearn.preprocessing import scale\n",
    "from sklearn.preprocessing import MinMaxScaler\n",
    "\n",
    "from sklearn.model_selection import train_test_split\n",
    "from sklearn.model_selection import GridSearchCV\n",
    "from sklearn.ensemble import RandomForestClassifier\n",
    "from sklearn.linear_model import LogisticRegressionCV, LogisticRegression\n",
    "\n",
    "from sklearn.metrics import roc_auc_score, roc_curve, fbeta_score\n",
    "from sklearn.metrics import confusion_matrix, classification_report\n",
    "\n",
    "import warnings\n",
    "warnings.filterwarnings('ignore')"
   ]
  },
  {
   "cell_type": "code",
   "execution_count": 2,
   "metadata": {},
   "outputs": [],
   "source": [
    "df = pd.read_csv('../data/cleaned/final_data.csv')"
   ]
  },
  {
   "cell_type": "code",
   "execution_count": 3,
   "metadata": {},
   "outputs": [],
   "source": [
    "# Drop unnecessary cols\n",
    "df.drop(['begin_date', 'end_date', 'fips', 'parish', 'begin_lat', 'begin_lon', 'end_lat', 'end_lon',\n",
    "        'injuries_direct', 'injuries_indirect', 'deaths_direct', 'deaths_indirect', 'damage_property'],\n",
    "        axis=1, inplace=True)\n",
    "# Drop Coastal Flood -- too different from other floods and not enough sample size\n",
    "df.drop('event_type_Coastal_Flood', axis=1, inplace=True)"
   ]
  },
  {
   "cell_type": "code",
   "execution_count": 4,
   "metadata": {},
   "outputs": [],
   "source": [
    "df['is_flood'] = np.where(df.event_type_None == 1, 0, 1)\n",
    "df.drop(['event_type_Flash_Flood', 'event_type_Flood', 'event_type_None'],\n",
    "       axis=1, inplace=True)"
   ]
  },
  {
   "cell_type": "code",
   "execution_count": 5,
   "metadata": {},
   "outputs": [
    {
     "data": {
      "text/html": [
       "<div>\n",
       "<style scoped>\n",
       "    .dataframe tbody tr th:only-of-type {\n",
       "        vertical-align: middle;\n",
       "    }\n",
       "\n",
       "    .dataframe tbody tr th {\n",
       "        vertical-align: top;\n",
       "    }\n",
       "\n",
       "    .dataframe thead th {\n",
       "        text-align: right;\n",
       "    }\n",
       "</style>\n",
       "<table border=\"1\" class=\"dataframe\">\n",
       "  <thead>\n",
       "    <tr style=\"text-align: right;\">\n",
       "      <th></th>\n",
       "      <th>avg_wind_spd</th>\n",
       "      <th>prcp</th>\n",
       "      <th>max_temp</th>\n",
       "      <th>min_temp</th>\n",
       "      <th>fastest_2m_wind_spd</th>\n",
       "      <th>fastest_5s_wind_spd</th>\n",
       "      <th>prev_7d_prcp</th>\n",
       "      <th>region_Central</th>\n",
       "      <th>region_Northeast</th>\n",
       "      <th>region_Northwest</th>\n",
       "      <th>region_Southeast</th>\n",
       "      <th>region_Southwest</th>\n",
       "      <th>season_fall</th>\n",
       "      <th>season_spring</th>\n",
       "      <th>season_summer</th>\n",
       "      <th>season_winter</th>\n",
       "      <th>is_flood</th>\n",
       "    </tr>\n",
       "  </thead>\n",
       "  <tbody>\n",
       "    <tr>\n",
       "      <th>0</th>\n",
       "      <td>4.47</td>\n",
       "      <td>0.045</td>\n",
       "      <td>82.5</td>\n",
       "      <td>62.5</td>\n",
       "      <td>12.1</td>\n",
       "      <td>18.1</td>\n",
       "      <td>0.015</td>\n",
       "      <td>0</td>\n",
       "      <td>0</td>\n",
       "      <td>1</td>\n",
       "      <td>0</td>\n",
       "      <td>0</td>\n",
       "      <td>1</td>\n",
       "      <td>0</td>\n",
       "      <td>0</td>\n",
       "      <td>0</td>\n",
       "      <td>0</td>\n",
       "    </tr>\n",
       "    <tr>\n",
       "      <th>1</th>\n",
       "      <td>10.29</td>\n",
       "      <td>0.000</td>\n",
       "      <td>83.0</td>\n",
       "      <td>71.0</td>\n",
       "      <td>19.9</td>\n",
       "      <td>23.0</td>\n",
       "      <td>3.140</td>\n",
       "      <td>0</td>\n",
       "      <td>0</td>\n",
       "      <td>0</td>\n",
       "      <td>0</td>\n",
       "      <td>1</td>\n",
       "      <td>0</td>\n",
       "      <td>1</td>\n",
       "      <td>0</td>\n",
       "      <td>0</td>\n",
       "      <td>0</td>\n",
       "    </tr>\n",
       "    <tr>\n",
       "      <th>2</th>\n",
       "      <td>3.80</td>\n",
       "      <td>0.000</td>\n",
       "      <td>54.0</td>\n",
       "      <td>27.0</td>\n",
       "      <td>14.1</td>\n",
       "      <td>16.1</td>\n",
       "      <td>1.100</td>\n",
       "      <td>0</td>\n",
       "      <td>0</td>\n",
       "      <td>1</td>\n",
       "      <td>0</td>\n",
       "      <td>0</td>\n",
       "      <td>0</td>\n",
       "      <td>0</td>\n",
       "      <td>0</td>\n",
       "      <td>1</td>\n",
       "      <td>0</td>\n",
       "    </tr>\n",
       "    <tr>\n",
       "      <th>3</th>\n",
       "      <td>11.63</td>\n",
       "      <td>0.630</td>\n",
       "      <td>46.0</td>\n",
       "      <td>39.0</td>\n",
       "      <td>17.9</td>\n",
       "      <td>23.9</td>\n",
       "      <td>9.740</td>\n",
       "      <td>0</td>\n",
       "      <td>0</td>\n",
       "      <td>0</td>\n",
       "      <td>0</td>\n",
       "      <td>1</td>\n",
       "      <td>0</td>\n",
       "      <td>0</td>\n",
       "      <td>0</td>\n",
       "      <td>1</td>\n",
       "      <td>0</td>\n",
       "    </tr>\n",
       "    <tr>\n",
       "      <th>4</th>\n",
       "      <td>6.04</td>\n",
       "      <td>0.000</td>\n",
       "      <td>64.5</td>\n",
       "      <td>43.5</td>\n",
       "      <td>14.1</td>\n",
       "      <td>17.9</td>\n",
       "      <td>1.160</td>\n",
       "      <td>0</td>\n",
       "      <td>0</td>\n",
       "      <td>0</td>\n",
       "      <td>1</td>\n",
       "      <td>0</td>\n",
       "      <td>1</td>\n",
       "      <td>0</td>\n",
       "      <td>0</td>\n",
       "      <td>0</td>\n",
       "      <td>0</td>\n",
       "    </tr>\n",
       "  </tbody>\n",
       "</table>\n",
       "</div>"
      ],
      "text/plain": [
       "   avg_wind_spd   prcp  max_temp  min_temp  fastest_2m_wind_spd  \\\n",
       "0          4.47  0.045      82.5      62.5                 12.1   \n",
       "1         10.29  0.000      83.0      71.0                 19.9   \n",
       "2          3.80  0.000      54.0      27.0                 14.1   \n",
       "3         11.63  0.630      46.0      39.0                 17.9   \n",
       "4          6.04  0.000      64.5      43.5                 14.1   \n",
       "\n",
       "   fastest_5s_wind_spd  prev_7d_prcp  region_Central  region_Northeast  \\\n",
       "0                 18.1         0.015               0                 0   \n",
       "1                 23.0         3.140               0                 0   \n",
       "2                 16.1         1.100               0                 0   \n",
       "3                 23.9         9.740               0                 0   \n",
       "4                 17.9         1.160               0                 0   \n",
       "\n",
       "   region_Northwest  region_Southeast  region_Southwest  season_fall  \\\n",
       "0                 1                 0                 0            1   \n",
       "1                 0                 0                 1            0   \n",
       "2                 1                 0                 0            0   \n",
       "3                 0                 0                 1            0   \n",
       "4                 0                 1                 0            1   \n",
       "\n",
       "   season_spring  season_summer  season_winter  is_flood  \n",
       "0              0              0              0         0  \n",
       "1              1              0              0         0  \n",
       "2              0              0              1         0  \n",
       "3              0              0              1         0  \n",
       "4              0              0              0         0  "
      ]
     },
     "execution_count": 5,
     "metadata": {},
     "output_type": "execute_result"
    }
   ],
   "source": [
    "df.head()"
   ]
  },
  {
   "cell_type": "code",
   "execution_count": 6,
   "metadata": {},
   "outputs": [],
   "source": [
    "X = df.drop('is_flood', axis=1)\n",
    "y = df['is_flood']"
   ]
  },
  {
   "cell_type": "code",
   "execution_count": 7,
   "metadata": {},
   "outputs": [
    {
     "name": "stdout",
     "output_type": "stream",
     "text": [
      "Training set: (4347, 4347)\n",
      "Test set: (1450, 1450)\n"
     ]
    }
   ],
   "source": [
    "# Split data\n",
    "X_train, X_test, y_train, y_test = train_test_split(X, y, random_state=18, stratify=y)\n",
    "\n",
    "print(f'Training set: ({len(X_train)}, {len(y_train)})')\n",
    "print(f'Test set: ({len(X_test)}, {len(y_test)})')"
   ]
  },
  {
   "cell_type": "code",
   "execution_count": 8,
   "metadata": {},
   "outputs": [
    {
     "name": "stdout",
     "output_type": "stream",
     "text": [
      "0.8601334253508166\n",
      "0.86\n"
     ]
    }
   ],
   "source": [
    "# Stratification test\n",
    "print(np.mean(y_train == 0))\n",
    "print(np.mean(y_test == 0))"
   ]
  },
  {
   "cell_type": "markdown",
   "metadata": {},
   "source": [
    "# Logistic Regression"
   ]
  },
  {
   "cell_type": "code",
   "execution_count": 9,
   "metadata": {},
   "outputs": [
    {
     "name": "stdout",
     "output_type": "stream",
     "text": [
      "Training score: 0.9574937360115989\n",
      "Testing score: 0.9696730280752625\n"
     ]
    }
   ],
   "source": [
    "logreg = LogisticRegressionCV(cv=5, scoring='roc_auc', max_iter=1000, random_state=18)\n",
    "logreg.fit(X_train, y_train)\n",
    "print(f'Training score: {logreg.score(X_train, y_train)}')\n",
    "print(f'Testing score: {logreg.score(X_test, y_test)}')"
   ]
  },
  {
   "cell_type": "markdown",
   "metadata": {},
   "source": [
    "### Use MinMaxScaler and compare performance"
   ]
  },
  {
   "cell_type": "code",
   "execution_count": 10,
   "metadata": {},
   "outputs": [],
   "source": [
    "continuous_cols = ['avg_wind_spd', 'prcp', 'max_temp', 'min_temp', 'fastest_2m_wind_spd',\n",
    "                   'fastest_5s_wind_spd', 'prev_7d_prcp']\n",
    "categorical_cols = ['region_Central', 'region_Northeast', 'region_Northwest', 'region_Southeast',\n",
    "                    'region_Southwest', 'season_fall', 'season_spring', 'season_summer', 'season_winter']"
   ]
  },
  {
   "cell_type": "code",
   "execution_count": 11,
   "metadata": {},
   "outputs": [],
   "source": [
    "min_max = MinMaxScaler()\n",
    "\n",
    "# Use MinMaxScaler to transform data\n",
    "X_train_minmax = min_max.fit_transform(X_train[continuous_cols])\n",
    "X_test_minmax = min_max.fit_transform(X_test[continuous_cols]) "
   ]
  },
  {
   "cell_type": "code",
   "execution_count": 12,
   "metadata": {},
   "outputs": [],
   "source": [
    "# TRAINING DATA\n",
    "# Take categorical data\n",
    "X_train_cat = X_train[categorical_cols].reset_index(drop=True)\n",
    "# Convert transformed data to DataFrame\n",
    "X_train_minmax = pd.DataFrame(X_train_minmax, columns=continuous_cols)\n",
    "# Concat the two DataFrames\n",
    "X_train_minmax = pd.concat([X_train_minmax, X_train_cat], sort=False, axis=1)\n",
    "\n",
    "# TEST DATA\n",
    "# Take categorical data\n",
    "X_test_cat = X_test[categorical_cols].reset_index(drop=True)\n",
    "# Convert transformed data to DataFrame\n",
    "X_test_minmax = pd.DataFrame(X_test_minmax, columns=continuous_cols)\n",
    "# Concat the two DataFrames\n",
    "X_test_minmax = pd.concat([X_test_minmax, X_test_cat], sort=False, axis=1)"
   ]
  },
  {
   "cell_type": "code",
   "execution_count": 13,
   "metadata": {},
   "outputs": [
    {
     "name": "stdout",
     "output_type": "stream",
     "text": [
      "Training score: 0.9577545888993679\n",
      "Testing score: 0.9695861199884649\n"
     ]
    }
   ],
   "source": [
    "# Logistic Regression model for MinMaxScaled data\n",
    "logreg = LogisticRegressionCV(cv=5, scoring='roc_auc', max_iter=1000, random_state=18)\n",
    "logreg.fit(X_train_minmax, y_train)\n",
    "\n",
    "print(f'Training score: {logreg.score(X_train_minmax, y_train)}')\n",
    "print(f'Testing score: {logreg.score(X_test_minmax, y_test)}')"
   ]
  },
  {
   "cell_type": "markdown",
   "metadata": {},
   "source": [
    "**RESULTS:** MinMaxScaler data did not increase performance."
   ]
  },
  {
   "cell_type": "markdown",
   "metadata": {},
   "source": [
    "### Use sklearn.preprocessing.scale and compare performance"
   ]
  },
  {
   "cell_type": "code",
   "execution_count": 14,
   "metadata": {},
   "outputs": [],
   "source": [
    "# Use scale to transform data\n",
    "X_train_scale = scale(X_train[continuous_cols])\n",
    "X_test_scale = scale(X_test[continuous_cols])\n",
    "\n",
    "# TRAINING DATA\n",
    "# Convert transformed data to DataFrame\n",
    "X_train_scale = pd.DataFrame(X_train_scale, columns=continuous_cols)\n",
    "# Concat the two DataFrames\n",
    "X_train_scale = pd.concat([X_train_scale, X_train_cat], sort=False, axis=1)\n",
    "\n",
    "# TEST DATA\n",
    "# Convert transformed data to DataFrame\n",
    "X_test_scale = pd.DataFrame(X_test_scale, columns=continuous_cols)\n",
    "# Concat the two DataFrames\n",
    "X_test_scale = pd.concat([X_test_scale, X_test_cat], sort=False, axis=1)"
   ]
  },
  {
   "cell_type": "code",
   "execution_count": 15,
   "metadata": {},
   "outputs": [
    {
     "name": "stdout",
     "output_type": "stream",
     "text": [
      "Training score: 0.9574822989541252\n",
      "Testing score: 0.969665127340099\n"
     ]
    }
   ],
   "source": [
    "# Logistic regression on scaled data\n",
    "logreg = LogisticRegressionCV(cv=5, scoring='roc_auc', max_iter=1000)\n",
    "logreg.fit(X_train_scale, y_train)\n",
    "\n",
    "print(f'Training score: {logreg.score(X_train_scale, y_train)}')\n",
    "print(f'Testing score: {logreg.score(X_test_scale, y_test)}')"
   ]
  },
  {
   "cell_type": "markdown",
   "metadata": {},
   "source": [
    "**RESULTS:** sklearn.preprocessing.scale data did not increase performance."
   ]
  },
  {
   "cell_type": "markdown",
   "metadata": {},
   "source": [
    "## Hyperparameter Tuning"
   ]
  },
  {
   "cell_type": "code",
   "execution_count": 16,
   "metadata": {},
   "outputs": [],
   "source": [
    "# Create regularization penalty space\n",
    "penalty = ['l1', 'l2']\n",
    "# Create regularization hyperparameter space\n",
    "C = np.logspace(0, 4, 10)\n",
    "# Create hyperparameter options\n",
    "hyperparameters = dict(C=C, penalty=penalty)"
   ]
  },
  {
   "cell_type": "code",
   "execution_count": 17,
   "metadata": {},
   "outputs": [
    {
     "name": "stdout",
     "output_type": "stream",
     "text": [
      "Best score: 0.9560967757648957\n",
      "Best parameters: {'C': 59.94842503189409, 'penalty': 'l2'}\n"
     ]
    }
   ],
   "source": [
    "logreg = LogisticRegression(random_state=18)\n",
    "gs_logreg = GridSearchCV(logreg, cv=5,\n",
    "                         param_grid=hyperparameters,\n",
    "                         scoring='roc_auc')\n",
    "best_logreg = gs_logreg.fit(X_train, y_train) \n",
    "\n",
    "print(f'Best score: {best_logreg.best_score_}') \n",
    "print(f'Best parameters: {best_logreg.best_params_}')"
   ]
  },
  {
   "cell_type": "code",
   "execution_count": 18,
   "metadata": {},
   "outputs": [
    {
     "name": "stdout",
     "output_type": "stream",
     "text": [
      "Confusion Matrix:\n"
     ]
    },
    {
     "data": {
      "text/html": [
       "<div>\n",
       "<style scoped>\n",
       "    .dataframe tbody tr th:only-of-type {\n",
       "        vertical-align: middle;\n",
       "    }\n",
       "\n",
       "    .dataframe tbody tr th {\n",
       "        vertical-align: top;\n",
       "    }\n",
       "\n",
       "    .dataframe thead th {\n",
       "        text-align: right;\n",
       "    }\n",
       "</style>\n",
       "<table border=\"1\" class=\"dataframe\">\n",
       "  <thead>\n",
       "    <tr style=\"text-align: right;\">\n",
       "      <th></th>\n",
       "      <th>no flood</th>\n",
       "      <th>flood</th>\n",
       "    </tr>\n",
       "  </thead>\n",
       "  <tbody>\n",
       "    <tr>\n",
       "      <th>no flood</th>\n",
       "      <td>1226</td>\n",
       "      <td>21</td>\n",
       "    </tr>\n",
       "    <tr>\n",
       "      <th>flood</th>\n",
       "      <td>57</td>\n",
       "      <td>146</td>\n",
       "    </tr>\n",
       "  </tbody>\n",
       "</table>\n",
       "</div>"
      ],
      "text/plain": [
       "          no flood  flood\n",
       "no flood      1226     21\n",
       "flood           57    146"
      ]
     },
     "execution_count": 18,
     "metadata": {},
     "output_type": "execute_result"
    }
   ],
   "source": [
    "y_pred = best_logreg.predict(X_test)\n",
    "\n",
    "print('Confusion Matrix:')\n",
    "pd.DataFrame(confusion_matrix(y_test, y_pred),\n",
    "             columns=['no flood', 'flood'],\n",
    "             index=['no flood', 'flood'])"
   ]
  },
  {
   "cell_type": "code",
   "execution_count": 19,
   "metadata": {},
   "outputs": [
    {
     "name": "stdout",
     "output_type": "stream",
     "text": [
      "              precision    recall  f1-score   support\n",
      "\n",
      "           0       0.96      0.98      0.97      1247\n",
      "           1       0.87      0.72      0.79       203\n",
      "\n",
      "    accuracy                           0.95      1450\n",
      "   macro avg       0.91      0.85      0.88      1450\n",
      "weighted avg       0.94      0.95      0.94      1450\n",
      "\n"
     ]
    }
   ],
   "source": [
    "print(classification_report(y_test, y_pred))"
   ]
  },
  {
   "cell_type": "markdown",
   "metadata": {},
   "source": [
    "## Thresholding and ROC Curve"
   ]
  },
  {
   "cell_type": "code",
   "execution_count": 20,
   "metadata": {},
   "outputs": [],
   "source": [
    "# Calculate predicted probabilities\n",
    "y_pred_prob_logreg = best_logreg.predict_proba(X_test)[:, 1]\n",
    "# Generate ROC-AUC curve values\n",
    "fpr, tpr, thresholds = roc_curve(y_test, y_pred_prob_logreg)"
   ]
  },
  {
   "cell_type": "code",
   "execution_count": 21,
   "metadata": {},
   "outputs": [
    {
     "data": {
      "text/plain": [
       "(0.10633073073902519, 0.832579185520362)"
      ]
     },
     "execution_count": 21,
     "metadata": {},
     "output_type": "execute_result"
    }
   ],
   "source": [
    "best_threshold_logreg, best_score_logreg = -1, -1\n",
    "for threshold in thresholds:\n",
    "    y_thresh = y_pred_prob_logreg > threshold\n",
    "    # We are optimizing for recall - correctly classifying true flood events\n",
    "    # beta = 2 minimizes false negatives\n",
    "    fbeta = fbeta_score(y_test, y_thresh, beta=2)\n",
    "    if fbeta > best_score_logreg:\n",
    "        best_threshold_logreg = threshold\n",
    "        best_score_logreg = fbeta\n",
    "\n",
    "best_threshold_logreg, best_score_logreg"
   ]
  },
  {
   "cell_type": "code",
   "execution_count": 22,
   "metadata": {},
   "outputs": [
    {
     "data": {
      "image/png": "[encoded data removed]",
      "text/plain": [
       "<Figure size 432x288 with 1 Axes>"
      ]
     },
     "metadata": {
      "needs_background": "light"
     },
     "output_type": "display_data"
    }
   ],
   "source": [
    "plt.plot(fpr, tpr)\n",
    "plt.plot([0, 1], [0, 1], 'k--')\n",
    "plt.xlim([0.0, 1.0])\n",
    "plt.ylim([0.0, 1.05])\n",
    "plt.xlabel('False Positive Rate')\n",
    "plt.ylabel('True Positive Rate')\n",
    "plt.axvline(best_threshold_logreg, color='red', linestyle=':',\n",
    "            label='Optimal threshold')\n",
    "plt.legend()\n",
    "plt.title('ROC Curve for Logistic Regression')\n",
    "plt.savefig('../docs/img/roc-logreg.png', dpi=300, bbox_inches='tight');"
   ]
  },
  {
   "cell_type": "code",
   "execution_count": 23,
   "metadata": {},
   "outputs": [
    {
     "name": "stdout",
     "output_type": "stream",
     "text": [
      "ROC-AUC score for Logistic Regression: 0.9676425391382668\n"
     ]
    }
   ],
   "source": [
    "print(f'ROC-AUC score for Logistic Regression: {roc_auc_score(y_test, y_pred_prob_logreg)}')"
   ]
  },
  {
   "cell_type": "markdown",
   "metadata": {},
   "source": [
    "# Random Forest"
   ]
  },
  {
   "cell_type": "code",
   "execution_count": 24,
   "metadata": {},
   "outputs": [
    {
     "name": "stdout",
     "output_type": "stream",
     "text": [
      "Training score: 1.0\n",
      "Testing score: 0.9503448275862069\n"
     ]
    }
   ],
   "source": [
    "rf = RandomForestClassifier(random_state=18)\n",
    "rf.fit(X_train, y_train) \n",
    "\n",
    "print(f'Training score: {rf.score(X_train, y_train)}')\n",
    "print(f'Testing score: {rf.score(X_test, y_test)}')"
   ]
  },
  {
   "cell_type": "markdown",
   "metadata": {},
   "source": [
    "### Compare performance of MinMaxScaler data"
   ]
  },
  {
   "cell_type": "code",
   "execution_count": 25,
   "metadata": {},
   "outputs": [
    {
     "name": "stdout",
     "output_type": "stream",
     "text": [
      "Training score: 1.0\n",
      "Testing score: 0.9448275862068966\n"
     ]
    }
   ],
   "source": [
    "rf = RandomForestClassifier(random_state=18)\n",
    "rf.fit(X_train_minmax, y_train) \n",
    "\n",
    "print(f'Training score: {rf.score(X_train_minmax, y_train)}')\n",
    "print(f'Testing score: {rf.score(X_test_minmax, y_test)}')"
   ]
  },
  {
   "cell_type": "markdown",
   "metadata": {},
   "source": [
    "**RESULTS:** MinMaxScaler did not increase performance."
   ]
  },
  {
   "cell_type": "markdown",
   "metadata": {},
   "source": [
    "### Compare performance of sklearn.preprocessing.scale data"
   ]
  },
  {
   "cell_type": "code",
   "execution_count": 26,
   "metadata": {},
   "outputs": [
    {
     "name": "stdout",
     "output_type": "stream",
     "text": [
      "Training score: 1.0\n",
      "Testing score: 0.9496551724137932\n"
     ]
    }
   ],
   "source": [
    "rf = RandomForestClassifier(random_state=18)\n",
    "rf.fit(X_train_scale, y_train) \n",
    "\n",
    "print(f'Training score: {rf.score(X_train_scale, y_train)}')\n",
    "print(f'Testing score: {rf.score(X_test_scale, y_test)}')"
   ]
  },
  {
   "cell_type": "markdown",
   "metadata": {},
   "source": [
    "**RESULTS:** sklearn.preprocessing.scale did not increase performance."
   ]
  },
  {
   "cell_type": "markdown",
   "metadata": {},
   "source": [
    "## Hyperparameter Tuning"
   ]
  },
  {
   "cell_type": "code",
   "execution_count": 27,
   "metadata": {},
   "outputs": [],
   "source": [
    "hyperparameters = {'min_samples_split': [0.001, 0.01, 0.1],\n",
    "                   'min_samples_leaf': [0.001, 0.01, 0.1, 1]}"
   ]
  },
  {
   "cell_type": "code",
   "execution_count": 28,
   "metadata": {},
   "outputs": [
    {
     "name": "stdout",
     "output_type": "stream",
     "text": [
      "Best score: 0.9648596413067168\n",
      "Best parameters: {'min_samples_leaf': 0.001, 'min_samples_split': 0.001}\n"
     ]
    }
   ],
   "source": [
    "rf = RandomForestClassifier(random_state=18)\n",
    "gs_rf = GridSearchCV(rf, cv=5,\n",
    "                     param_grid=hyperparameters,\n",
    "                     scoring='roc_auc')\n",
    "best_rf = gs_rf.fit(X_train, y_train) \n",
    "\n",
    "print(f'Best score: {best_rf.best_score_}')\n",
    "print(f'Best parameters: {best_rf.best_params_}')"
   ]
  },
  {
   "cell_type": "code",
   "execution_count": 29,
   "metadata": {},
   "outputs": [
    {
     "name": "stdout",
     "output_type": "stream",
     "text": [
      "Confusion Matrix:\n"
     ]
    },
    {
     "data": {
      "text/html": [
       "<div>\n",
       "<style scoped>\n",
       "    .dataframe tbody tr th:only-of-type {\n",
       "        vertical-align: middle;\n",
       "    }\n",
       "\n",
       "    .dataframe tbody tr th {\n",
       "        vertical-align: top;\n",
       "    }\n",
       "\n",
       "    .dataframe thead th {\n",
       "        text-align: right;\n",
       "    }\n",
       "</style>\n",
       "<table border=\"1\" class=\"dataframe\">\n",
       "  <thead>\n",
       "    <tr style=\"text-align: right;\">\n",
       "      <th></th>\n",
       "      <th>no flood</th>\n",
       "      <th>flood</th>\n",
       "    </tr>\n",
       "  </thead>\n",
       "  <tbody>\n",
       "    <tr>\n",
       "      <th>no flood</th>\n",
       "      <td>1223</td>\n",
       "      <td>24</td>\n",
       "    </tr>\n",
       "    <tr>\n",
       "      <th>flood</th>\n",
       "      <td>49</td>\n",
       "      <td>154</td>\n",
       "    </tr>\n",
       "  </tbody>\n",
       "</table>\n",
       "</div>"
      ],
      "text/plain": [
       "          no flood  flood\n",
       "no flood      1223     24\n",
       "flood           49    154"
      ]
     },
     "execution_count": 29,
     "metadata": {},
     "output_type": "execute_result"
    }
   ],
   "source": [
    "params = best_rf.best_params_\n",
    "rf = RandomForestClassifier(random_state=18,\n",
    "                            min_samples_leaf=params['min_samples_leaf'],\n",
    "                            min_samples_split=params['min_samples_split'])\n",
    "rf.fit(X_train, y_train)\n",
    "y_pred_rf = rf.predict(X_test)\n",
    "\n",
    "print('Confusion Matrix:')\n",
    "pd.DataFrame(confusion_matrix(y_test, y_pred_rf),\n",
    "             columns=['no flood', 'flood'],\n",
    "             index=['no flood', 'flood'])"
   ]
  },
  {
   "cell_type": "code",
   "execution_count": 30,
   "metadata": {},
   "outputs": [
    {
     "name": "stdout",
     "output_type": "stream",
     "text": [
      "              precision    recall  f1-score   support\n",
      "\n",
      "           0       0.96      0.98      0.97      1247\n",
      "           1       0.87      0.76      0.81       203\n",
      "\n",
      "    accuracy                           0.95      1450\n",
      "   macro avg       0.91      0.87      0.89      1450\n",
      "weighted avg       0.95      0.95      0.95      1450\n",
      "\n"
     ]
    }
   ],
   "source": [
    "print(classification_report(y_test, y_pred_rf))"
   ]
  },
  {
   "cell_type": "markdown",
   "metadata": {},
   "source": [
    "## Thresholding and ROC Curve"
   ]
  },
  {
   "cell_type": "code",
   "execution_count": 31,
   "metadata": {},
   "outputs": [],
   "source": [
    "# Calculate predicted probabilities\n",
    "y_pred_prob_rf = rf.predict_proba(X_test)[:, 1]\n",
    "# Generate ROC-AUC curve values\n",
    "fpr, tpr, thresholds = roc_curve(y_test, y_pred_prob_rf)"
   ]
  },
  {
   "cell_type": "code",
   "execution_count": 32,
   "metadata": {},
   "outputs": [
    {
     "data": {
      "text/plain": [
       "(0.24113474025974027, 0.8388941849380362)"
      ]
     },
     "execution_count": 32,
     "metadata": {},
     "output_type": "execute_result"
    }
   ],
   "source": [
    "best_threshold_rf, best_score_rf = -1, -1\n",
    "for threshold in thresholds:\n",
    "    y_thresh = y_pred_prob_rf > threshold\n",
    "    # We are optimizing for recall - correctly classifying true flood events\n",
    "    # beta = 2 minimizes false negatives\n",
    "    fbeta = fbeta_score(y_test, y_thresh, beta=2)\n",
    "    if fbeta > best_score_rf:\n",
    "        best_threshold_rf = threshold\n",
    "        best_score_rf = fbeta\n",
    "\n",
    "best_threshold_rf, best_score_rf"
   ]
  },
  {
   "cell_type": "code",
   "execution_count": 33,
   "metadata": {},
   "outputs": [
    {
     "data": {
      "image/png": "[encoded data removed]",
      "text/plain": [
       "<Figure size 432x288 with 1 Axes>"
      ]
     },
     "metadata": {
      "needs_background": "light"
     },
     "output_type": "display_data"
    }
   ],
   "source": [
    "# Plot ROC curve\n",
    "plt.plot([0, 1], [0, 1], 'k--')\n",
    "plt.plot(fpr, tpr)\n",
    "plt.xlim([0.0, 1.0])\n",
    "plt.ylim([0.0, 1.05])\n",
    "plt.xlabel('False Positive Rate')\n",
    "plt.ylabel('True Positive Rate')\n",
    "plt.title('ROC Curve for Random Forest')\n",
    "plt.axvline(best_threshold_rf, color='red', linestyle=':',\n",
    "            label='Optimal threshold')\n",
    "plt.legend()\n",
    "plt.savefig('../docs/img/roc-rf.png', dpi=300, bbox_inches='tight');"
   ]
  },
  {
   "cell_type": "code",
   "execution_count": 34,
   "metadata": {},
   "outputs": [
    {
     "name": "stdout",
     "output_type": "stream",
     "text": [
      "ROC-AUC Score for Random Forest: 0.9696414251346088\n"
     ]
    }
   ],
   "source": [
    "print(f'ROC-AUC Score for Random Forest: {roc_auc_score(y_test, y_pred_prob_rf)}')"
   ]
  },
  {
   "cell_type": "code",
   "execution_count": 35,
   "metadata": {},
   "outputs": [
    {
     "data": {
      "text/html": [
       "<div>\n",
       "<style scoped>\n",
       "    .dataframe tbody tr th:only-of-type {\n",
       "        vertical-align: middle;\n",
       "    }\n",
       "\n",
       "    .dataframe tbody tr th {\n",
       "        vertical-align: top;\n",
       "    }\n",
       "\n",
       "    .dataframe thead th {\n",
       "        text-align: right;\n",
       "    }\n",
       "</style>\n",
       "<table border=\"1\" class=\"dataframe\">\n",
       "  <thead>\n",
       "    <tr style=\"text-align: right;\">\n",
       "      <th></th>\n",
       "      <th>importance</th>\n",
       "    </tr>\n",
       "  </thead>\n",
       "  <tbody>\n",
       "    <tr>\n",
       "      <th>prcp</th>\n",
       "      <td>0.609939</td>\n",
       "    </tr>\n",
       "    <tr>\n",
       "      <th>fastest_5s_wind_spd</th>\n",
       "      <td>0.083818</td>\n",
       "    </tr>\n",
       "    <tr>\n",
       "      <th>fastest_2m_wind_spd</th>\n",
       "      <td>0.074997</td>\n",
       "    </tr>\n",
       "    <tr>\n",
       "      <th>prev_7d_prcp</th>\n",
       "      <td>0.066977</td>\n",
       "    </tr>\n",
       "    <tr>\n",
       "      <th>min_temp</th>\n",
       "      <td>0.042080</td>\n",
       "    </tr>\n",
       "    <tr>\n",
       "      <th>max_temp</th>\n",
       "      <td>0.041285</td>\n",
       "    </tr>\n",
       "    <tr>\n",
       "      <th>avg_wind_spd</th>\n",
       "      <td>0.033122</td>\n",
       "    </tr>\n",
       "    <tr>\n",
       "      <th>region_Northwest</th>\n",
       "      <td>0.021002</td>\n",
       "    </tr>\n",
       "    <tr>\n",
       "      <th>region_Southeast</th>\n",
       "      <td>0.005733</td>\n",
       "    </tr>\n",
       "    <tr>\n",
       "      <th>season_summer</th>\n",
       "      <td>0.004819</td>\n",
       "    </tr>\n",
       "    <tr>\n",
       "      <th>season_spring</th>\n",
       "      <td>0.004011</td>\n",
       "    </tr>\n",
       "    <tr>\n",
       "      <th>season_winter</th>\n",
       "      <td>0.003528</td>\n",
       "    </tr>\n",
       "    <tr>\n",
       "      <th>region_Southwest</th>\n",
       "      <td>0.003506</td>\n",
       "    </tr>\n",
       "    <tr>\n",
       "      <th>season_fall</th>\n",
       "      <td>0.003159</td>\n",
       "    </tr>\n",
       "    <tr>\n",
       "      <th>region_Northeast</th>\n",
       "      <td>0.001083</td>\n",
       "    </tr>\n",
       "    <tr>\n",
       "      <th>region_Central</th>\n",
       "      <td>0.000941</td>\n",
       "    </tr>\n",
       "  </tbody>\n",
       "</table>\n",
       "</div>"
      ],
      "text/plain": [
       "                     importance\n",
       "prcp                   0.609939\n",
       "fastest_5s_wind_spd    0.083818\n",
       "fastest_2m_wind_spd    0.074997\n",
       "prev_7d_prcp           0.066977\n",
       "min_temp               0.042080\n",
       "max_temp               0.041285\n",
       "avg_wind_spd           0.033122\n",
       "region_Northwest       0.021002\n",
       "region_Southeast       0.005733\n",
       "season_summer          0.004819\n",
       "season_spring          0.004011\n",
       "season_winter          0.003528\n",
       "region_Southwest       0.003506\n",
       "season_fall            0.003159\n",
       "region_Northeast       0.001083\n",
       "region_Central         0.000941"
      ]
     },
     "execution_count": 35,
     "metadata": {},
     "output_type": "execute_result"
    }
   ],
   "source": [
    "# Explore feature importances\n",
    "feature_importances = pd.DataFrame(rf.feature_importances_,\n",
    "                                   index = X_train.columns,\n",
    "                                   columns=['importance']) \\\n",
    "    .sort_values('importance', ascending=False)\n",
    "\n",
    "feature_importances"
   ]
  },
  {
   "cell_type": "markdown",
   "metadata": {},
   "source": [
    "## In terms of our business decision of optimizing for recall, the random forest performed the best with f2 score = 0.839 vs. logistic regression f2 score = 0.836."
   ]
  }
 ],
 "metadata": {
  "kernelspec": {
   "display_name": "Python 3",
   "language": "python",
   "name": "python3"
  },
  "language_info": {
   "codemirror_mode": {
    "name": "ipython",
    "version": 3
   },
   "file_extension": ".py",
   "mimetype": "text/x-python",
   "name": "python",
   "nbconvert_exporter": "python",
   "pygments_lexer": "ipython3",
   "version": "3.7.3"
  }
 },
 "nbformat": 4,
 "nbformat_minor": 2
}
