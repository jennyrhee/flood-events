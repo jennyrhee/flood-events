{
 "cells": [
  {
   "cell_type": "code",
   "execution_count": 1,
   "metadata": {},
   "outputs": [],
   "source": [
    "import pandas as pd \n",
    "import numpy as np\n",
    "import matplotlib\n",
    "import matplotlib.pyplot as plt\n",
    "from ipywidgets import interact, interactive, fixed, interact_manual\n",
    "import seaborn as sns\n",
    "\n",
    "import plotly\n",
    "import plotly.figure_factory as ff\n",
    "\n",
    "import statsmodels.api as sm\n",
    "import scipy.stats"
   ]
  },
  {
   "cell_type": "code",
   "execution_count": 2,
   "metadata": {},
   "outputs": [],
   "source": [
    "matplotlib.rcParams['figure.figsize'] = 14, 6 \n",
    "plt.style.use('tableau-colorblind10')\n",
    "matplotlib.rcParams['axes.labelsize'] = 14\n",
    "matplotlib.rcParams['xtick.labelsize'] = 12\n",
    "matplotlib.rcParams['ytick.labelsize'] = 12\n",
    "matplotlib.rcParams['text.color'] = 'k'\n",
    "#pgf_with_rc_fonts = {\"pgf.texsystem\": \"pdflatex\"}\n",
    "#matplotlib.rcParams.update(pgf_with_rc_fonts)\n",
    "sns.set_palette(['#003f5c', '#58508d', '#bc5090', '#ff6361', '#ffa600'])"
   ]
  },
  {
   "cell_type": "code",
   "execution_count": 3,
   "metadata": {
    "scrolled": false
   },
   "outputs": [
    {
     "data": {
      "text/html": [
       "<div>\n",
       "<style scoped>\n",
       "    .dataframe tbody tr th:only-of-type {\n",
       "        vertical-align: middle;\n",
       "    }\n",
       "\n",
       "    .dataframe tbody tr th {\n",
       "        vertical-align: top;\n",
       "    }\n",
       "\n",
       "    .dataframe thead th {\n",
       "        text-align: right;\n",
       "    }\n",
       "</style>\n",
       "<table border=\"1\" class=\"dataframe\">\n",
       "  <thead>\n",
       "    <tr style=\"text-align: right;\">\n",
       "      <th></th>\n",
       "      <th>date</th>\n",
       "      <th>parish</th>\n",
       "      <th>region</th>\n",
       "      <th>lat</th>\n",
       "      <th>lon</th>\n",
       "      <th>fips</th>\n",
       "      <th>event_count</th>\n",
       "      <th>injuries_direct</th>\n",
       "      <th>injuries_indirect</th>\n",
       "      <th>deaths_direct</th>\n",
       "      <th>deaths_indirect</th>\n",
       "      <th>damage_property</th>\n",
       "      <th>highest_daily_total_precip</th>\n",
       "      <th>total_precip</th>\n",
       "      <th>avg_temp</th>\n",
       "      <th>mean_max_temp</th>\n",
       "      <th>mean_min_temp</th>\n",
       "    </tr>\n",
       "  </thead>\n",
       "  <tbody>\n",
       "    <tr>\n",
       "      <th>0</th>\n",
       "      <td>1952-04</td>\n",
       "      <td>Acadia</td>\n",
       "      <td>Southwest</td>\n",
       "      <td>30.291497</td>\n",
       "      <td>-92.411037</td>\n",
       "      <td>22001</td>\n",
       "      <td>1</td>\n",
       "      <td>0</td>\n",
       "      <td>0</td>\n",
       "      <td>0</td>\n",
       "      <td>0</td>\n",
       "      <td>250000.0</td>\n",
       "      <td>3.410</td>\n",
       "      <td>8.560</td>\n",
       "      <td>63.9</td>\n",
       "      <td>74.5</td>\n",
       "      <td>53.2</td>\n",
       "    </tr>\n",
       "    <tr>\n",
       "      <th>1</th>\n",
       "      <td>1952-05</td>\n",
       "      <td>Acadia</td>\n",
       "      <td>Southwest</td>\n",
       "      <td>30.291497</td>\n",
       "      <td>-92.411037</td>\n",
       "      <td>22001</td>\n",
       "      <td>0</td>\n",
       "      <td>0</td>\n",
       "      <td>0</td>\n",
       "      <td>0</td>\n",
       "      <td>0</td>\n",
       "      <td>0.0</td>\n",
       "      <td>4.425</td>\n",
       "      <td>6.540</td>\n",
       "      <td>73.9</td>\n",
       "      <td>84.6</td>\n",
       "      <td>63.2</td>\n",
       "    </tr>\n",
       "    <tr>\n",
       "      <th>2</th>\n",
       "      <td>1952-06</td>\n",
       "      <td>Acadia</td>\n",
       "      <td>Southwest</td>\n",
       "      <td>30.291497</td>\n",
       "      <td>-92.411037</td>\n",
       "      <td>22001</td>\n",
       "      <td>0</td>\n",
       "      <td>0</td>\n",
       "      <td>0</td>\n",
       "      <td>0</td>\n",
       "      <td>0</td>\n",
       "      <td>0.0</td>\n",
       "      <td>0.795</td>\n",
       "      <td>1.820</td>\n",
       "      <td>82.3</td>\n",
       "      <td>92.5</td>\n",
       "      <td>72.1</td>\n",
       "    </tr>\n",
       "    <tr>\n",
       "      <th>3</th>\n",
       "      <td>1952-07</td>\n",
       "      <td>Acadia</td>\n",
       "      <td>Southwest</td>\n",
       "      <td>30.291497</td>\n",
       "      <td>-92.411037</td>\n",
       "      <td>22001</td>\n",
       "      <td>0</td>\n",
       "      <td>0</td>\n",
       "      <td>0</td>\n",
       "      <td>0</td>\n",
       "      <td>0</td>\n",
       "      <td>0.0</td>\n",
       "      <td>3.425</td>\n",
       "      <td>10.530</td>\n",
       "      <td>81.9</td>\n",
       "      <td>90.5</td>\n",
       "      <td>73.3</td>\n",
       "    </tr>\n",
       "    <tr>\n",
       "      <th>4</th>\n",
       "      <td>1952-08</td>\n",
       "      <td>Acadia</td>\n",
       "      <td>Southwest</td>\n",
       "      <td>30.291497</td>\n",
       "      <td>-92.411037</td>\n",
       "      <td>22001</td>\n",
       "      <td>0</td>\n",
       "      <td>0</td>\n",
       "      <td>0</td>\n",
       "      <td>0</td>\n",
       "      <td>0</td>\n",
       "      <td>0.0</td>\n",
       "      <td>0.565</td>\n",
       "      <td>1.375</td>\n",
       "      <td>82.4</td>\n",
       "      <td>91.4</td>\n",
       "      <td>73.3</td>\n",
       "    </tr>\n",
       "  </tbody>\n",
       "</table>\n",
       "</div>"
      ],
      "text/plain": [
       "      date  parish     region        lat        lon   fips  event_count  \\\n",
       "0  1952-04  Acadia  Southwest  30.291497 -92.411037  22001            1   \n",
       "1  1952-05  Acadia  Southwest  30.291497 -92.411037  22001            0   \n",
       "2  1952-06  Acadia  Southwest  30.291497 -92.411037  22001            0   \n",
       "3  1952-07  Acadia  Southwest  30.291497 -92.411037  22001            0   \n",
       "4  1952-08  Acadia  Southwest  30.291497 -92.411037  22001            0   \n",
       "\n",
       "   injuries_direct  injuries_indirect  deaths_direct  deaths_indirect  \\\n",
       "0                0                  0              0                0   \n",
       "1                0                  0              0                0   \n",
       "2                0                  0              0                0   \n",
       "3                0                  0              0                0   \n",
       "4                0                  0              0                0   \n",
       "\n",
       "   damage_property  highest_daily_total_precip  total_precip  avg_temp  \\\n",
       "0         250000.0                       3.410         8.560      63.9   \n",
       "1              0.0                       4.425         6.540      73.9   \n",
       "2              0.0                       0.795         1.820      82.3   \n",
       "3              0.0                       3.425        10.530      81.9   \n",
       "4              0.0                       0.565         1.375      82.4   \n",
       "\n",
       "   mean_max_temp  mean_min_temp  \n",
       "0           74.5           53.2  \n",
       "1           84.6           63.2  \n",
       "2           92.5           72.1  \n",
       "3           90.5           73.3  \n",
       "4           91.4           73.3  "
      ]
     },
     "execution_count": 3,
     "metadata": {},
     "output_type": "execute_result"
    }
   ],
   "source": [
    "df = pd.read_csv('../data/cleaned/cleaned_data.csv', parse_dates=[0], \n",
    "                 dtype={'event_count': int, 'injuries_direct': int,\n",
    "                        'injuries_indirect': int, 'deaths_direct': int,\n",
    "                        'deaths_indirect': int, 'parish': 'category', \n",
    "                        'region': 'category'})\n",
    "df['date'] = df.date.dt.to_period('M')\n",
    "\n",
    "# Only look until 2018 since 2019 is not over\n",
    "df = df[df.date.dt.year < 2019]\n",
    "df.head()"
   ]
  },
  {
   "cell_type": "code",
   "execution_count": 4,
   "metadata": {},
   "outputs": [
    {
     "data": {
      "text/html": [
       "<div>\n",
       "<style scoped>\n",
       "    .dataframe tbody tr th:only-of-type {\n",
       "        vertical-align: middle;\n",
       "    }\n",
       "\n",
       "    .dataframe tbody tr th {\n",
       "        vertical-align: top;\n",
       "    }\n",
       "\n",
       "    .dataframe thead th {\n",
       "        text-align: right;\n",
       "    }\n",
       "</style>\n",
       "<table border=\"1\" class=\"dataframe\">\n",
       "  <thead>\n",
       "    <tr style=\"text-align: right;\">\n",
       "      <th></th>\n",
       "      <th>date</th>\n",
       "      <th>parish</th>\n",
       "      <th>region</th>\n",
       "      <th>fips</th>\n",
       "      <th>event_type</th>\n",
       "      <th>event_count</th>\n",
       "      <th>injuries_direct</th>\n",
       "      <th>injuries_indirect</th>\n",
       "      <th>deaths_direct</th>\n",
       "      <th>deaths_indirect</th>\n",
       "      <th>damage_property</th>\n",
       "    </tr>\n",
       "  </thead>\n",
       "  <tbody>\n",
       "    <tr>\n",
       "      <th>0</th>\n",
       "      <td>1950-02</td>\n",
       "      <td>Bienville</td>\n",
       "      <td>Northwest</td>\n",
       "      <td>22013</td>\n",
       "      <td>Tornado</td>\n",
       "      <td>1</td>\n",
       "      <td>0</td>\n",
       "      <td>0</td>\n",
       "      <td>0</td>\n",
       "      <td>0</td>\n",
       "      <td>250000.0</td>\n",
       "    </tr>\n",
       "    <tr>\n",
       "      <th>1</th>\n",
       "      <td>1950-02</td>\n",
       "      <td>Bossier</td>\n",
       "      <td>Northwest</td>\n",
       "      <td>22015</td>\n",
       "      <td>Tornado</td>\n",
       "      <td>1</td>\n",
       "      <td>37</td>\n",
       "      <td>0</td>\n",
       "      <td>9</td>\n",
       "      <td>0</td>\n",
       "      <td>250000.0</td>\n",
       "    </tr>\n",
       "    <tr>\n",
       "      <th>2</th>\n",
       "      <td>1950-02</td>\n",
       "      <td>Caddo</td>\n",
       "      <td>Northwest</td>\n",
       "      <td>22017</td>\n",
       "      <td>Tornado</td>\n",
       "      <td>1</td>\n",
       "      <td>40</td>\n",
       "      <td>0</td>\n",
       "      <td>9</td>\n",
       "      <td>0</td>\n",
       "      <td>250000.0</td>\n",
       "    </tr>\n",
       "    <tr>\n",
       "      <th>3</th>\n",
       "      <td>1950-02</td>\n",
       "      <td>Claiborne</td>\n",
       "      <td>Northwest</td>\n",
       "      <td>22027</td>\n",
       "      <td>Tornado</td>\n",
       "      <td>1</td>\n",
       "      <td>10</td>\n",
       "      <td>0</td>\n",
       "      <td>5</td>\n",
       "      <td>0</td>\n",
       "      <td>250000.0</td>\n",
       "    </tr>\n",
       "    <tr>\n",
       "      <th>4</th>\n",
       "      <td>1950-02</td>\n",
       "      <td>De Soto</td>\n",
       "      <td>Northwest</td>\n",
       "      <td>22031</td>\n",
       "      <td>Tornado</td>\n",
       "      <td>2</td>\n",
       "      <td>0</td>\n",
       "      <td>0</td>\n",
       "      <td>0</td>\n",
       "      <td>0</td>\n",
       "      <td>500000.0</td>\n",
       "    </tr>\n",
       "  </tbody>\n",
       "</table>\n",
       "</div>"
      ],
      "text/plain": [
       "      date     parish     region   fips event_type  event_count  \\\n",
       "0  1950-02  Bienville  Northwest  22013    Tornado            1   \n",
       "1  1950-02    Bossier  Northwest  22015    Tornado            1   \n",
       "2  1950-02      Caddo  Northwest  22017    Tornado            1   \n",
       "3  1950-02  Claiborne  Northwest  22027    Tornado            1   \n",
       "4  1950-02    De Soto  Northwest  22031    Tornado            2   \n",
       "\n",
       "   injuries_direct  injuries_indirect  deaths_direct  deaths_indirect  \\\n",
       "0                0                  0              0                0   \n",
       "1               37                  0              9                0   \n",
       "2               40                  0              9                0   \n",
       "3               10                  0              5                0   \n",
       "4                0                  0              0                0   \n",
       "\n",
       "   damage_property  \n",
       "0         250000.0  \n",
       "1         250000.0  \n",
       "2         250000.0  \n",
       "3         250000.0  \n",
       "4         500000.0  "
      ]
     },
     "execution_count": 4,
     "metadata": {},
     "output_type": "execute_result"
    }
   ],
   "source": [
    "storm_df = pd.read_csv('../data/cleaned/event_type_data.csv', parse_dates=[0])\n",
    "storm_df['date'] = storm_df.date.dt.to_period('M')\n",
    "storm_df.head()"
   ]
  },
  {
   "cell_type": "markdown",
   "metadata": {},
   "source": [
    "# Temperature"
   ]
  },
  {
   "cell_type": "code",
   "execution_count": 5,
   "metadata": {},
   "outputs": [
    {
     "data": {
      "image/png": "[encoded data removed]",
      "text/plain": [
       "<Figure size 1008x432 with 1 Axes>"
      ]
     },
     "metadata": {
      "needs_background": "light"
     },
     "output_type": "display_data"
    }
   ],
   "source": [
    "sns.boxplot(x='region', y='avg_temp', data=df)\n",
    "plt.ylabel('average temperature')\n",
    "plt.title('Average Temperature by Region');"
   ]
  },
  {
   "cell_type": "code",
   "execution_count": 6,
   "metadata": {},
   "outputs": [
    {
     "data": {
      "image/png": "[encoded data removed]",
      "text/plain": [
       "<Figure size 1080x216 with 5 Axes>"
      ]
     },
     "metadata": {
      "needs_background": "light"
     },
     "output_type": "display_data"
    }
   ],
   "source": [
    "g = sns.FacetGrid(df, col='region')\n",
    "g.map(sns.distplot, 'avg_temp');"
   ]
  },
  {
   "cell_type": "code",
   "execution_count": 7,
   "metadata": {},
   "outputs": [
    {
     "data": {
      "text/html": [
       "<div>\n",
       "<style scoped>\n",
       "    .dataframe tbody tr th:only-of-type {\n",
       "        vertical-align: middle;\n",
       "    }\n",
       "\n",
       "    .dataframe tbody tr th {\n",
       "        vertical-align: top;\n",
       "    }\n",
       "\n",
       "    .dataframe thead th {\n",
       "        text-align: right;\n",
       "    }\n",
       "</style>\n",
       "<table border=\"1\" class=\"dataframe\">\n",
       "  <thead>\n",
       "    <tr style=\"text-align: right;\">\n",
       "      <th></th>\n",
       "      <th>avg_temp</th>\n",
       "    </tr>\n",
       "    <tr>\n",
       "      <th>region</th>\n",
       "      <th></th>\n",
       "    </tr>\n",
       "  </thead>\n",
       "  <tbody>\n",
       "    <tr>\n",
       "      <th>Central</th>\n",
       "      <td>12.112310</td>\n",
       "    </tr>\n",
       "    <tr>\n",
       "      <th>Northeast</th>\n",
       "      <td>13.247908</td>\n",
       "    </tr>\n",
       "    <tr>\n",
       "      <th>Northwest</th>\n",
       "      <td>13.245456</td>\n",
       "    </tr>\n",
       "    <tr>\n",
       "      <th>Southeast</th>\n",
       "      <td>11.369583</td>\n",
       "    </tr>\n",
       "    <tr>\n",
       "      <th>Southwest</th>\n",
       "      <td>11.277076</td>\n",
       "    </tr>\n",
       "  </tbody>\n",
       "</table>\n",
       "</div>"
      ],
      "text/plain": [
       "            avg_temp\n",
       "region              \n",
       "Central    12.112310\n",
       "Northeast  13.247908\n",
       "Northwest  13.245456\n",
       "Southeast  11.369583\n",
       "Southwest  11.277076"
      ]
     },
     "execution_count": 7,
     "metadata": {},
     "output_type": "execute_result"
    }
   ],
   "source": [
    "# Standard deviation for average temperature\n",
    "df.groupby('region')[['avg_temp']].std()"
   ]
  },
  {
   "cell_type": "markdown",
   "metadata": {},
   "source": [
    "### Testing for regional differences\n",
    "\n",
    "Null hypothesis: Northern regions and Southern regions have the same average temperatures.  \n",
    "Alternative hypothesis: Northern regions have lower average temperatures than Southern regions.  \n",
    "Significance level: 0.05"
   ]
  },
  {
   "cell_type": "code",
   "execution_count": 8,
   "metadata": {},
   "outputs": [
    {
     "data": {
      "text/plain": [
       "Ttest_indResult(statistic=-25.290084021829696, pvalue=5.456941859278744e-140)"
      ]
     },
     "execution_count": 8,
     "metadata": {},
     "output_type": "execute_result"
    }
   ],
   "source": [
    "northern_temp = df[(df.region == 'Northeast') | (df.region == 'Northwest')]['avg_temp']\n",
    "southern_temp = df[(df.region == 'Southeast') | (df.region == 'Southwest')]['avg_temp']\n",
    "\n",
    "scipy.stats.ttest_ind(northern_temp, southern_temp, equal_var=False)"
   ]
  },
  {
   "cell_type": "markdown",
   "metadata": {},
   "source": [
    "The null hypothesis is rejected, which suggests that Northern regions have slightly lower average temperatures than Southern regions. There is also slightly more variability in Northern regions."
   ]
  },
  {
   "cell_type": "markdown",
   "metadata": {},
   "source": [
    "### Three outliers for Northeast"
   ]
  },
  {
   "cell_type": "code",
   "execution_count": null,
   "metadata": {},
   "outputs": [
    {
     "data": {
      "image/png": "[encoded data removed]",
      "text/plain": [
       "<Figure size 1008x432 with 1 Axes>"
      ]
     },
     "metadata": {
      "needs_background": "light"
     },
     "output_type": "display_data"
    }
   ],
   "source": [
    "sns.boxplot(x='region', y='mean_max_temp', data=df)\n",
    "plt.ylabel('mean max temperature')\n",
    "plt.title('Mean Max Temperature by Region');"
   ]
  },
  {
   "cell_type": "code",
   "execution_count": null,
   "metadata": {},
   "outputs": [],
   "source": [
    "g = sns.FacetGrid(df, col='region')\n",
    "g.map(sns.distplot, 'mean_max_temp');"
   ]
  },
  {
   "cell_type": "markdown",
   "metadata": {},
   "source": [
    "- After further inspection, the mean max temperature is lower than than the mean min temperature.\n",
    "- Assume accidental Celsius unit and convert to Fahrenheit"
   ]
  },
  {
   "cell_type": "code",
   "execution_count": null,
   "metadata": {},
   "outputs": [],
   "source": [
    "df[df.mean_max_temp < 40]"
   ]
  },
  {
   "cell_type": "code",
   "execution_count": null,
   "metadata": {},
   "outputs": [],
   "source": [
    "# Conversion from Celsius to Fahrenheit\n",
    "df.loc[[7433, 7438, 7504], 'mean_max_temp'] = df.loc[[7433, 7438, 7504], 'mean_max_temp'] \\\n",
    "                                                * 1.8 + 32"
   ]
  },
  {
   "cell_type": "code",
   "execution_count": null,
   "metadata": {},
   "outputs": [],
   "source": [
    "sns.boxplot(x='region', y='mean_min_temp', data=df)\n",
    "plt.ylabel('mean min temperature')\n",
    "plt.title('Mean Min Temperature by Region');"
   ]
  },
  {
   "cell_type": "code",
   "execution_count": null,
   "metadata": {},
   "outputs": [],
   "source": [
    "g = sns.FacetGrid(df, col='region')\n",
    "g.map(sns.distplot, 'mean_min_temp');"
   ]
  },
  {
   "cell_type": "markdown",
   "metadata": {},
   "source": [
    "# Precipitation\n",
    "- There are many outliers, but they are likely attributed to rainy/hurricane seasons."
   ]
  },
  {
   "cell_type": "code",
   "execution_count": null,
   "metadata": {},
   "outputs": [],
   "source": [
    "sns.boxplot(x='region', y='total_precip', data=df)\n",
    "plt.ylabel('total monthly precipitation')\n",
    "plt.title('Total Monthly Precipitation by Region');"
   ]
  },
  {
   "cell_type": "code",
   "execution_count": null,
   "metadata": {},
   "outputs": [],
   "source": [
    "g = sns.FacetGrid(df, col='region')\n",
    "g.map(sns.distplot, 'total_precip');"
   ]
  },
  {
   "cell_type": "code",
   "execution_count": null,
   "metadata": {},
   "outputs": [],
   "source": [
    "# Standard deviation for total monthly precipitation\n",
    "df.groupby('region')[['total_precip']].std()"
   ]
  },
  {
   "cell_type": "markdown",
   "metadata": {},
   "source": [
    "### Testing for regional differences\n",
    "\n",
    "Null hypothesis: Northern regions and Southern regions have the same amounts of total monthly precipitation.  \n",
    "Alternative hypothesis: Northern regions have lower amounts of total monthly precipitation compared to Southern regions.  \n",
    "Significance level: 0.05"
   ]
  },
  {
   "cell_type": "code",
   "execution_count": null,
   "metadata": {},
   "outputs": [],
   "source": [
    "northern_prec = df[(df.region == 'Northeast') | (df.region == 'Northwest')]['total_precip']\n",
    "southern_prec = df[(df.region == 'Southeast') | (df.region == 'Southwest')]['total_precip']\n",
    "\n",
    "scipy.stats.ttest_ind(northern_prec, southern_prec, equal_var=False)"
   ]
  },
  {
   "cell_type": "markdown",
   "metadata": {},
   "source": [
    "The null hypothesis is rejected, which suggests that Northern regions have slightly lower amounts of total monthly precipitation compared to Southern regions. "
   ]
  },
  {
   "cell_type": "code",
   "execution_count": null,
   "metadata": {},
   "outputs": [],
   "source": [
    "sns.boxplot(x='region', y='highest_daily_total_precip', data=df)\n",
    "plt.ylabel('highest daily total precipitation')\n",
    "_ = plt.title('Highest Daily Total Precipitation by Region')"
   ]
  },
  {
   "cell_type": "code",
   "execution_count": null,
   "metadata": {},
   "outputs": [],
   "source": [
    "g = sns.FacetGrid(df, col='region')\n",
    "g.map(sns.distplot, 'highest_daily_total_precip');"
   ]
  },
  {
   "cell_type": "markdown",
   "metadata": {},
   "source": [
    "# Total Yearly Event Count, Deaths, Injuries, and Property Damage\n",
    "- There is an increasing trend in number of storm events with potentially interesting peaks during 1973-1975, 1983-1985, 2008, 2011, and 2015-2018. \n",
    "- The spikes in property damage and deaths were in 2005 when Hurricane Katrina devastated South Louisiana. \n",
    "- The second highest peak in property damage was in 2016 when there was a 1000-year flood in Central Louisiana. \n",
    "- Death count was generally low."
   ]
  },
  {
   "cell_type": "code",
   "execution_count": null,
   "metadata": {},
   "outputs": [],
   "source": [
    "year_resample = df.set_index('date').resample('Y').sum()\n",
    "\n",
    "fig, ax = plt.subplots()\n",
    "year_resample['event_count'].plot(ax=ax, label='event count')\n",
    "ax.set_ylabel('count')\n",
    "ax.set_ylim(0, 1300)\n",
    "\n",
    "# Combine indirect and direct statistics for deaths and injuries\n",
    "deaths = year_resample.deaths_direct + year_resample.deaths_indirect\n",
    "injuries = year_resample.injuries_direct + year_resample.injuries_indirect\n",
    "\n",
    "deaths.plot(ax=ax, color='red', linestyle=':', label='deaths')\n",
    "injuries.plot(ax=ax, color='orange', linestyle=':', label='injuries')\n",
    "\n",
    "ax2 = ax.twinx()\n",
    "year_resample['damage_property'].plot(ax=ax2, color='green', linestyle=':', logy=True, \n",
    "                                      label='property damage')\n",
    "ax2.set_ylabel('property damage (log10 $)')\n",
    "\n",
    "plt.title('Total Yearly Event Count, Deaths, Injuries, and Property Damage in Louisiana')\n",
    "# Combine legends\n",
    "h1, l1 = ax.get_legend_handles_labels()\n",
    "h2, l2 = ax2.get_legend_handles_labels()\n",
    "ax.legend(h1+h2, l1+l2);"
   ]
  },
  {
   "cell_type": "markdown",
   "metadata": {},
   "source": [
    "## This leads me to ask the following questions:  \n",
    "- What are the most common storm event types?\n",
    "- Which event types have resulted in the most amount of property damage, injuries, and deaths?\n",
    "- What could be the reason(s) for such a drastic change in the number of storm events from 1950 to now? "
   ]
  },
  {
   "cell_type": "markdown",
   "metadata": {},
   "source": [
    "### What are the most common storm event types?"
   ]
  },
  {
   "cell_type": "code",
   "execution_count": null,
   "metadata": {},
   "outputs": [],
   "source": [
    "storm_df.groupby('event_type')[['event_count']].sum().sort_values(by='event_count', \n",
    "                                                                  ascending=False)[:5] \\\n",
    "                                                     .plot(kind='bar')\n",
    "plt.xticks(rotation='horizontal')\n",
    "plt.ylabel('count')\n",
    "plt.title('Most Common Storm Events');"
   ]
  },
  {
   "cell_type": "markdown",
   "metadata": {},
   "source": [
    "### Which event types have resulted in the most amount of property damage, injuries, and deaths?"
   ]
  },
  {
   "cell_type": "code",
   "execution_count": null,
   "metadata": {},
   "outputs": [],
   "source": [
    "# Key for color consistency for storm events\n",
    "colors = [\"#69ef7b\", # drought\n",
    "          \"#344b46\", # flash flood\n",
    "          \"#64d4fd\", # flood\n",
    "          \"#7a2f9b\", # funnel cloud\n",
    "          \"#048ad1\", # hail\n",
    "          \"#fbacf6\", # heat\n",
    "          \"#523d6e\", # high wind\n",
    "          \"#93d5a9\", # hurricane (typhoon)\n",
    "          \"#0b6d33\", # ice storm\n",
    "          \"#b1d34f\", # lightning\n",
    "          \"#d5082d\", # storm surge/tide\n",
    "          \"#f4d16a\", # strong wind\n",
    "          \"#2D2DB4\", # thunderstorm wind\n",
    "          \"#eb957f\", # tornado\n",
    "          \"#fe8f06\", # tropical storm\n",
    "          \"#75887b\", # winter storm\n",
    "          \"#d5d0fa\"] # winter weather"
   ]
  },
  {
   "cell_type": "code",
   "execution_count": null,
   "metadata": {},
   "outputs": [],
   "source": [
    "# Sum up all of property damage by event type\n",
    "prop_dmg = storm_df.groupby('event_type')[['damage_property']] \\\n",
    "                   .sum() \\\n",
    "                   .sort_values(by='damage_property', \n",
    "                                ascending=False)\n",
    "\n",
    "# Sum up other event types and label as Other\n",
    "other = prop_dmg['Thunderstorm Wind':].sum()\n",
    "prop_dmg = prop_dmg[:5]\n",
    "prop_dmg.loc['Other'] = other"
   ]
  },
  {
   "cell_type": "code",
   "execution_count": null,
   "metadata": {},
   "outputs": [],
   "source": [
    "fig, ax = plt.subplots(1, 2)\n",
    "\n",
    "# Pie chart\n",
    "colors = [\"#d5082d\", \"#93d5a9\", \"#64d4fd\", \"#344b46\", \"#eb957f\", '#6e6e6e']\n",
    "prop_dmg['damage_property'].plot(ax=ax[0], kind='pie', autopct='%1.1f%%',\n",
    "                                colors=colors)\n",
    "ax[0].set_title('Overall Percentage of Property Damage by Event Type')\n",
    "ax[0].set_ylabel(None)\n",
    "\n",
    "# Bar\n",
    "prop_dmg.plot(ax=ax[1], kind='bar', color='green')\n",
    "\n",
    "ax[1].set_xticklabels(prop_dmg.index, rotation=50)\n",
    "ax[1].set_ylabel('total sum (trillions $)')\n",
    "ax[1].set_title('Top 5 Events Resulting in Highest Amounts of Property Damage', pad=20.5)\n",
    "\n",
    "fig.subplots_adjust(left=.5, right=1.5);"
   ]
  },
  {
   "cell_type": "code",
   "execution_count": null,
   "metadata": {},
   "outputs": [],
   "source": [
    "# Sum up all indirect and direct injuries by event type\n",
    "injuries_df = storm_df.groupby('event_type')[['injuries_indirect', 'injuries_direct']].sum()\n",
    "\n",
    "# Combine indirect and direct injuries\n",
    "injuries_df['total_injuries'] = injuries_df['injuries_indirect'] + injuries_df['injuries_direct']\n",
    "injuries_df = injuries_df.sort_values(by='total_injuries', ascending=False)\n",
    "\n",
    "# Sum up other event types and label as Other\n",
    "other = injuries_df['Tropical Storm':].sum()\n",
    "injuries = injuries[['total_injuries']][:5]\n",
    "injuries.loc['Other'] = other"
   ]
  },
  {
   "cell_type": "code",
   "execution_count": null,
   "metadata": {},
   "outputs": [],
   "source": [
    "fig, ax = plt.subplots(1, 2)\n",
    "\n",
    "colors = [\"#eb957f\", \"#2D2DB4\", \"magenta\", \"#b1d34f\", \"#344b46\", '#6e6e6e']\n",
    "injuries['total_injuries'].plot(ax=ax[0], kind='pie', autopct='%1.1f%%',\n",
    "                                colors=colors)\n",
    "ax[0].set_title('Overall Percentage of Injuries by Event Type')\n",
    "ax[0].set_ylabel(None)\n",
    "\n",
    "injuries.plot(ax=ax[1], kind='bar', color='orange')\n",
    "ax[1].set_xticklabels(injuries.index, rotation=60)\n",
    "ax[1].set_ylabel('total count')\n",
    "ax[1].set_title('Top 5 Events Resulting in Most Injuries')\n",
    "\n",
    "fig.subplots_adjust(left=.5, right=1.5);"
   ]
  },
  {
   "cell_type": "markdown",
   "metadata": {},
   "source": [
    "#### The significantly high amount of deaths in hurricanes is due to Hurricane Katrina in 2005"
   ]
  },
  {
   "cell_type": "code",
   "execution_count": null,
   "metadata": {},
   "outputs": [],
   "source": [
    "# Sum up all indirect and direct deaths by event type\n",
    "deaths_df = storm_df.groupby('event_type')[['deaths_indirect', 'deaths_direct']].sum()\n",
    "\n",
    "# Combine indirect and direct deaths\n",
    "deaths_df['total_deaths'] = deaths_df['deaths_indirect'] + deaths_df['deaths_direct']\n",
    "\n",
    "deaths = deaths_df[['total_deaths']].sort_values(by='total_deaths', ascending=False)\n",
    "\n",
    "other = deaths['Flash Flood':].sum()\n",
    "deaths = deaths[:5]\n",
    "deaths.loc['Other'] = other"
   ]
  },
  {
   "cell_type": "code",
   "execution_count": null,
   "metadata": {
    "scrolled": true
   },
   "outputs": [],
   "source": [
    "# Check if any deaths besides Katrina for October 2008\n",
    "oct08_dir_deaths = storm_df[(storm_df.date == '2005-08') & \n",
    "                            (storm_df.event_type != 'Hurricane (Typhoon)')] \\\n",
    "                             ['deaths_direct'].sum()\n",
    "oct08_indir_deaths = storm_df[(storm_df.date == '2005-08') & \n",
    "                              (storm_df.event_type != 'Hurricane (Typhoon)')] \\\n",
    "                               ['deaths_indirect'].sum()\n",
    "\n",
    "print('Direct Deaths in October 2008 besides Katrina:', oct08_dir_deaths)\n",
    "print('Indirect Deaths in October 2008 besides Katrina:', oct08_indir_deaths)"
   ]
  },
  {
   "cell_type": "code",
   "execution_count": null,
   "metadata": {},
   "outputs": [],
   "source": [
    "# Filter out October 2008\n",
    "# Sum up all indirect and direct deaths by event type\n",
    "no_katrina = storm_df[(storm_df.date != '2005-08')].groupby('event_type') \\\n",
    "             [['deaths_indirect', 'deaths_direct']].sum()\n",
    "\n",
    "# Combine indirect and direct deaths\n",
    "no_katrina['total_deaths'] = no_katrina['deaths_indirect'] + no_katrina['deaths_direct']\n",
    "\n",
    "no_katrina = no_katrina[['total_deaths']].sort_values(by='total_deaths', \n",
    "                                                      ascending=False)\n",
    "\n",
    "other = no_katrina['Excessive Heat':].sum()\n",
    "no_katrina = no_katrina[:5]\n",
    "no_katrina.loc['Other'] = other"
   ]
  },
  {
   "cell_type": "markdown",
   "metadata": {},
   "source": [
    "Note the scale difference in the y-axis"
   ]
  },
  {
   "cell_type": "code",
   "execution_count": null,
   "metadata": {},
   "outputs": [],
   "source": [
    "fig, ax = plt.subplots(1, 2)\n",
    "\n",
    "# With Katrina\n",
    "deaths.plot(ax=ax[0], kind='bar', color='red')\n",
    "ax[0].set_xticklabels(deaths.index, rotation=60)\n",
    "ax[0].set_ylabel('count')\n",
    "ax[0].set_title('Top 5 Events Resulting in Most Deaths')\n",
    "\n",
    "# Without Katrina\n",
    "no_katrina.plot(ax=ax[1], kind='bar', color='red')\n",
    "ax[1].set_xticklabels(no_katrina.index, rotation=60)\n",
    "ax[1].set_ylabel('count')\n",
    "ax[1].set_title('Top 5 Events (Excluding Hurricane Katrina) Resulting in Most Deaths');"
   ]
  },
  {
   "cell_type": "code",
   "execution_count": null,
   "metadata": {},
   "outputs": [],
   "source": [
    "fig, ax = plt.subplots(1, 2)\n",
    "\n",
    "# With Katrina\n",
    "colors = [\"#93d5a9\", \"#eb957f\", \"#fbacf6\", \"#2D2DB4\", \"#b1d34f\", '#6e6e6e']\n",
    "deaths['total_deaths'].plot(ax=ax[0], kind='pie', autopct='%1.1f%%', colors=colors)\n",
    "ax[0].set_title('Overall Percentage of Deaths by Event Type')\n",
    "ax[0].set_ylabel(None)\n",
    "\n",
    "# Without Katrina\n",
    "colors = [\"#eb957f\", \"#fbacf6\", \"#2D2DB4\", \"#b1d34f\", \"#344b46\", '#6e6e6e']\n",
    "no_katrina['total_deaths'].plot(ax=ax[1], kind='pie', autopct='%1.1f%%', colors=colors)\n",
    "ax[1].set_title('Overall Percentage of Deaths by Event Type (Without Katrina)')\n",
    "ax[1].set_ylabel(None)\n",
    "\n",
    "fig.subplots_adjust(left=.5, right=1.4);"
   ]
  },
  {
   "cell_type": "markdown",
   "metadata": {},
   "source": [
    "### What could be the reason(s) for such a drastic change in the number of storm events from 1950 to now?"
   ]
  },
  {
   "cell_type": "markdown",
   "metadata": {},
   "source": [
    "[Source](https://www.ncdc.noaa.gov/stormevents/details.jsp):  \n",
    "1. Tornado: From 1950 through 1954, only tornado events were recorded.\n",
    "\n",
    "2. Tornado, Thunderstorm Wind and Hail: From 1955 through 1992, only tornado, thunderstorm wind and hail events were keyed from the paper publications into digital data. From 1993 to 1995, only tornado, thunderstorm wind and hail events have been extracted from the Unformatted Text Files.\n",
    "\n",
    "3. All Event Types (48 from Directive 10-1605): From 1996 to present, 48 event types are recorded as defined in [NWS Directive 10-1605](https://www.ncdc.noaa.gov/stormevents/pd01016005curr.pdf).  "
   ]
  },
  {
   "cell_type": "code",
   "execution_count": null,
   "metadata": {},
   "outputs": [],
   "source": [
    "storm_df[['date', 'event_count']].groupby('date').sum() \\\n",
    "                                 .plot()\n",
    "plt.ylabel('count')\n",
    "_ = plt.title('Storm Event Count (1950-2018)')"
   ]
  },
  {
   "cell_type": "markdown",
   "metadata": {},
   "source": [
    "Note: For modeling purposes, it will be best to only use data from 1996 to present."
   ]
  },
  {
   "cell_type": "code",
   "execution_count": null,
   "metadata": {},
   "outputs": [],
   "source": [
    "# Filter for 1996-2018, only take date and event_count columns\n",
    "# Group by date and sum, then plot\n",
    "storm_df[storm_df.date.dt.year > 1995][['date', 'event_count']].groupby('date').sum() \\\n",
    "                                                               .plot()\n",
    "plt.ylabel('count')\n",
    "_ = plt.title('Storm Event Count (1996-2018)')"
   ]
  },
  {
   "cell_type": "markdown",
   "metadata": {},
   "source": [
    "# Yearly Event Count by Region\n",
    "- Northwest Louisiana has consistently had the most number of storm events (with some exceptions) while Central Louisiana generally has had the least. \n",
    "- The trends are generally similar among all regions with Northwest Louisiana being the general exception. "
   ]
  },
  {
   "cell_type": "code",
   "execution_count": null,
   "metadata": {},
   "outputs": [],
   "source": [
    "# New DataFrame with only date, region, event_count\n",
    "region_event = df[['date', 'region', 'event_count']].set_index('date') \n",
    "# Filter for 1996 to 2018\n",
    "region_event = region_event[region_event.index.year > 1995].groupby('region') \\\n",
    "                                                           .resample('Y') \\\n",
    "                                                           .sum() \\\n",
    "                                                           .unstack('region')\n",
    "\n",
    "colors = ['#003f5c', '#58508d', '#bc5090', '#ff6361', '#ffa600']\n",
    "fig, ax = plt.subplots()\n",
    "for col, color in zip(region_event.columns, colors):\n",
    "    region_event[col].plot(c=color, linestyle=':', alpha=0.90)\n",
    "\n",
    "# Get average for all regions per year\n",
    "means = region_event.unstack().groupby('date').mean()\n",
    "plt.plot(means, c='k')\n",
    "\n",
    "ax.set_ylim(0, 450)\n",
    "plt.title('Yearly Event Count by Region in Louisiana (1996-2018)')\n",
    "plt.ylabel('event count')\n",
    "_ = plt.legend(['Central', 'Northeast', 'Northwest', 'Southeast', 'Southwest', 'Average'])"
   ]
  },
  {
   "cell_type": "markdown",
   "metadata": {},
   "source": [
    "## This leads me to ask the following questions:\n",
    "- It is surprising that Northwest Louisiana consistently has the most number of storm events. What type of storm events are common for this region?\n",
    "- What happened in Southeast Louisiana in 2002 and 2004?\n",
    "- What happened in Northeast Louisiana in 2006?"
   ]
  },
  {
   "cell_type": "markdown",
   "metadata": {},
   "source": [
    "### What type of storm events are common for Northwest Louisiana?"
   ]
  },
  {
   "cell_type": "code",
   "execution_count": null,
   "metadata": {},
   "outputs": [],
   "source": [
    "# Group by event type and only take event_count column and sum\n",
    "storm_df[(storm_df.region == 'Northwest') & \n",
    "         (storm_df.date.dt.year > 1995)].groupby('event_type')[['event_count']] \\\n",
    "                                        .sum() \\\n",
    "                                        .sort_values(by='event_count', \n",
    "                                                     ascending=False)[:5] \\\n",
    "                                        .plot(kind='bar')\n",
    "plt.ylabel('count')\n",
    "plt.xticks(rotation='horizontal')\n",
    "_ = plt.title('Most Common Storm Events in Northwest Louisiana')"
   ]
  },
  {
   "cell_type": "markdown",
   "metadata": {},
   "source": [
    "### What happened in Southeast Louisiana in 2002?"
   ]
  },
  {
   "cell_type": "code",
   "execution_count": null,
   "metadata": {},
   "outputs": [],
   "source": [
    "# Filter for Southeast region and 2002 year\n",
    "# Group by event type and only take event_count column\n",
    "# Sum and sort descending\n",
    "storm_df[(storm_df.date.dt.year == 2002) & \n",
    "         (storm_df.region == 'Southeast')].groupby('event_type')[['event_count']] \\\n",
    "                                          .sum() \\\n",
    "                                          .sort_values(by='event_count', \n",
    "                                                       ascending=False)"
   ]
  },
  {
   "cell_type": "markdown",
   "metadata": {},
   "source": [
    "#### Of interest:\n",
    "- **Winter storms** in January\n",
    "    - [Snow hits and unpracticed South and shuts it down](https://www.nytimes.com/2002/01/04/us/snow-hits-an-unpracticed-south-and-shuts-it-down.html)\n",
    "- Relatively high number of **lightning** events in July\n",
    "- High number of **thunderstorm winds** especially in July, but also noteable events in April and December. \n",
    "- **Tropical storms** in August and September\n",
    "    - August:\n",
    "        - 5th - Tropical Storm Bertha makes landfall on Boothville as a minimal tropical storm with wind speeds of 40 mph (64 km/h) and a minimum pressure of 1,008 mbar (29.8 inHg), moving across Louisiana as a weakening system before moving back into the Gulf of Mexico on August 7. The storm drops scattered rainfall across the state, peaking southwest of Franklinton at 10.25 in (26.0 cm). Streets were flooded by the heavy rainfall in Slidell. In St. Tammany Parish, surface runoff from flash flooding causes some rivers to exceed flood stage. Damage in Louisiana totaled to \\\\$150,000 (2002 USD, \\\\$180,000 2008 USD).\n",
    "    - September:\n",
    "        - 5th - Tropical Storm Fay develops offshore the Louisiana coast before making landfall in Texas as a moderate tropical storm. West of Cameron, Fay causes a storm surge as high as 2.5 ft (0.76 m), resulting in minor beach erosion and coastal highway flooding. Tropical Storm Fay's outer rainbands drop light rainfall over eastern and southern portions of the state, peaking at 4.64 in (11.8 cm) in Grand Isle. Prior to making landfall, a tropical storm warning is issued for western parts of Louisiana east to Intracoastal City.\n",
    "        - 14th - Tropical Storm Hanna makes landfall near the mouth of the Mississippi River as a moderate tropical storm with winds of 50 mph (80 km/h), before subsequently making landfall on the border between Alabama and Mississippi. Despite making landfall on Louisiana, as a result of convection displaced east of the center, the state receives primarily minimal effects from Hanna. No significant flooding resulted from high tides caused by the storm. Rainfall is confined to extreme eastern portions of the state, where rainfall peaks at 1.72 in (4.4 cm) in Sondeheimer, Louisiana.\n",
    "        - 26th - Hurricane Isidore makes landfall just west of Grand Isle as a Tropical Storm with winds of 65 mph (105 km/h), having significantly weakened after stalling over the Yucatán Peninsula. Rainfall is widespread across the state, peaking at 15.97 in (406 mm) in Metarie. The heavy rains cause the failure of drainage systems, leaving numerous streets flooded. In Terrebonne Parish, 200–300 homes are flooded. The rains also damage large plots of sugar cane crop in Southwest Louisiana.\n",
    "- **Huricanes** in October\n",
    "    - 3rd - Hurricane Lili made landfall on the morning of October 3 near Intracoastal City, as a weakening category 1 hurricane. Wind gusts reaching 120 mph (190 km/h), coupled with over 6 inches (150 mm) of rainfall and a storm surge of 12 feet (3.7 m) caused over \\\\$790 million (2002 USD) in damage to Louisiana. A total of 237,000 people lost power, and oil rigs offshore were shut down for up to a week. Crops were badly affected, particularly the sugar cane, damage totaled nearly \\\\$175 million (2002 USD). No direct deaths were reported as early warnings and the compact nature of the storm circumvented major loss of life.\n",
    "    \n",
    "[Tropical Storm/Hurricane Source](https://en.wikipedia.org/wiki/List_of_Louisiana_hurricanes_(2000%E2%80%93present))"
   ]
  },
  {
   "cell_type": "code",
   "execution_count": null,
   "metadata": {},
   "outputs": [],
   "source": [
    "colors = [\"#344b46\", \"#64d4fd\", '#7a2f9b', '#048ad1', \"#523d6e\", \"#93d5a9\", \"#b1d34f\", \"#2D2DB4\", \n",
    "          \"#eb957f\", \"#fe8f06\", \"#75887b\"]\n",
    "\n",
    "# Filter for Southeast region and 2002 year\n",
    "# Group by event type and only take event_count column\n",
    "# Sum then plot\n",
    "_ = storm_df[(storm_df.date.dt.year == 2002) & \n",
    "             (storm_df.region == 'Southeast')].groupby(['date', 'event_type'])[['event_count']] \\\n",
    "                                              .sum() \\\n",
    "                                              .unstack() \\\n",
    "                                              .plot(kind='bar', \n",
    "                                                    stacked=True, \n",
    "                                                    color=colors)\n",
    "plt.ylabel('count')\n",
    "plt.title('Storm Events in Southeast Louisiana (2002)')\n",
    "_ = plt.legend(['Flash Flood', 'Flood', 'Funnel Cloud', 'Hail', 'High Wind', \n",
    "                'Hurricane (Typhoon)', 'Lightning', 'Thunderstorm Wind', 'Tornado', \n",
    "                'Tropical Storm', 'Winter Storm'])"
   ]
  },
  {
   "cell_type": "markdown",
   "metadata": {},
   "source": [
    "### What happened in Southeast Louisiana in 2004?"
   ]
  },
  {
   "cell_type": "code",
   "execution_count": null,
   "metadata": {},
   "outputs": [],
   "source": [
    "# Filter for Southeast region and 2004 year\n",
    "# Group by event type and only take event_count column\n",
    "# Sum and sort descending\n",
    "storm_df[(storm_df.date.dt.year == 2004) & \n",
    "         (storm_df.region == 'Southeast')].groupby('event_type')[['event_count']] \\\n",
    "                                          .sum() \\\n",
    "                                          .sort_values(by='event_count', \n",
    "                                                       ascending=False)"
   ]
  },
  {
   "cell_type": "markdown",
   "metadata": {},
   "source": [
    "#### Of interest:\n",
    "- Relatively high number of **hail** events in February, but also noteable events in April and June\n",
    "- **Flash floods** mainly in April and May\n",
    "    - [Stormy weather caused flooding in May over Southeast Louisiana and South Mississippi](https://www.weather.gov/media/lix/E5/2004/lixe5may04.pdf)\n",
    "- High number of **thunderstorm winds** especially in June, but also in May and November\n",
    "- **Tropical storms**, **hurricanes**, and **storm surges/tides** in September and October\n",
    "    - September: Around the time Hurricane Ivan's initial landfall in Alabama, the storm produced wind gusts as strong as 100 mph (160 km/h) at the Southwest Pass of the Mississippi River. In Plaquemines Parish, several school and government building as well as about 100 mobile homes. Additionally, about 50 electrical poles were toppled. About a dozen structure in St. Bernard Parish were damaged. Storm surge flooded several low-lying areas in southeastern Louisiana. About 55,000 customers lost power during the storm. Four people died during evacuation and damage in the state reached roughly \\\\$7.9 million. Upon the storm's second landfall in Holly Beach resulted in minor coastal flooding, with damage totaling only about \\\\$15,000. Inland, generally light rainfall was recorded.\n",
    "    - October: Tropical Storm Matthew caused a storm surge of up to 5.85 ft (1.78 m) in Frenier. The storm surge and waves resulted in significant beach erosion in Grand Isle. Portions of Louisiana experienced significant rainfall, including a peak of 18 inches (460 mm) in Haynesville. In addition, a tornado caused damage to the roof of a trailer in Golden Meadow. Rainfall and storm surge flooded 20 homes in Terrebonne Parish. In addition, several homes in Lafouche Parish experienced flooding, including two with over two feet of water. Numerous homes in Golden Meadow experienced flooding, as well. The flooding also forced the temporary closing of numerous roads across the state, including portions of Route 11 and Interstate 10. Flood waters from the storm cracked a water line in LaPlace, leaving nearly 30,000 residents and many businesses without tap water. The problem was expected to take little time to fix, though residents were advised to boil the water before drinking it. Matthew also left 2,500 people without power for a short period of time. The storm's impact also closed several schools. In all, Matthew caused \\\\$255,000 in damage (2004 USD).\n",
    "- **Winter storms** in December\n",
    "    - [The Great Christmas Eve Storm of 2004](https://www.farmersalmanac.com/the-great-christmas-eve-snow-storm-2004-2246)\n",
    "\n",
    "[Tropical Storm/Hurricane Source](https://en.wikipedia.org/wiki/List_of_Louisiana_hurricanes_(2000%E2%80%93present))"
   ]
  },
  {
   "cell_type": "code",
   "execution_count": null,
   "metadata": {},
   "outputs": [],
   "source": [
    "colors = [\"#344b46\", \"#7a2f9b\", \"#048ad1\", \"#93d5a9\", \"#b1d34f\", \"#d5082d\", \"#2D2DB4\", \"#eb957f\", \n",
    "          \"#fe8f06\", \"#75887b\"]\n",
    "\n",
    "# Filter for Southeast region and 20024year\n",
    "# Group by event type and only take event_count column\n",
    "# Sum and plot\n",
    "storm_df[(storm_df.date.dt.year == 2004) & \n",
    "         (storm_df.region == 'Southeast')].groupby(['date', 'event_type'])[['event_count']] \\\n",
    "                                          .sum() \\\n",
    "                                          .unstack() \\\n",
    "                                          .plot(kind='bar', \n",
    "                                                stacked=True,\n",
    "                                                color=colors)\n",
    "plt.ylabel('count')\n",
    "plt.title('Storm Events in Southeast Louisiana (2004)')\n",
    "_ = plt.legend(['Flash Flood', 'Funnel Cloud', 'Hail', 'Hurricane (Typhoon)', 'Lightning', \n",
    "                'Storm Surge/Tide', 'Thunderstorm Wind', 'Tornado', 'Tropical Storm', \n",
    "                'Winter Storm'])"
   ]
  },
  {
   "cell_type": "markdown",
   "metadata": {},
   "source": [
    "### What happened in Northeast Louisiana in 2006?"
   ]
  },
  {
   "cell_type": "code",
   "execution_count": null,
   "metadata": {},
   "outputs": [],
   "source": [
    "# Filter for Northeast region and 2006 year\n",
    "# Group by event type and only take event_count column\n",
    "# Sum and sort descending\n",
    "storm_df[(storm_df.date.dt.year == 2006) & \n",
    "         (storm_df.region == 'Northeast')].groupby('event_type')[['event_count']] \\\n",
    "                                          .sum() \\\n",
    "                                          .sort_values(by='event_count', \n",
    "                                                       ascending=False)"
   ]
  },
  {
   "cell_type": "markdown",
   "metadata": {},
   "source": [
    "#### Of interest:\n",
    "- High number of **hail** events in February, April, and May\n",
    "- **Thunderstorm events** throughout the year mainly in March, April, May, July, August, October, and November\n",
    "- **Heat** in July\n",
    "- **Drought** in October\n",
    "    - [2006-08 Southeastern United States Drought](https://en.wikipedia.org/wiki/2006%E2%80%9308_Southeastern_United_States_drought)"
   ]
  },
  {
   "cell_type": "code",
   "execution_count": null,
   "metadata": {},
   "outputs": [],
   "source": [
    "colors = [\"#69ef7b\", \"#344b46\", \"#7a2f9b\", \"#048ad1\", \"#fbacf6\", \"#0b6d33\", \"#b1d34f\", \"#f4d16a\", \n",
    "          \"#2D2DB4\", \"#eb957f\", \"#d5d0fa\"]\n",
    "\n",
    "# Filter for Northeast region and 2006 year\n",
    "# Group by event type and only take event_count column\n",
    "# Sum and plot\n",
    "storm_df[(storm_df.date.dt.year == 2006) & \n",
    "         (storm_df.region == 'Northeast')].groupby(['date', 'event_type'])[['event_count']] \\\n",
    "                                          .sum() \\\n",
    "                                          .unstack() \\\n",
    "                                          .plot(kind='bar',\n",
    "                                                stacked=True, \n",
    "                                                color=colors)\n",
    "plt.ylabel('count')\n",
    "plt.title('Storm Events in Southeast Louisiana (2006)')\n",
    "_ = plt.legend(['Drought', 'Flash Flood', 'Funnel Cloud', 'Hail', 'Heat', 'Ice Storm', 'Lightning', 'Strong Wind',\n",
    "                'Thunderstorm Wind', 'Tornado', 'Winter Weather'])"
   ]
  },
  {
   "cell_type": "markdown",
   "metadata": {},
   "source": [
    "# Map Visualization"
   ]
  },
  {
   "cell_type": "code",
   "execution_count": null,
   "metadata": {
    "scrolled": false
   },
   "outputs": [],
   "source": [
    "def plot(year, parameter):\n",
    "    df_sample = df[df.date.dt.year == year]\n",
    "    values = df_sample[parameter].tolist()\n",
    "    fips = df_sample['fips'].tolist()\n",
    "    \n",
    "    if parameter in ['event_count', 'deaths_indirect', 'deaths_direct', 'injuries_indirect',\n",
    "                     'injuries_direct', 'damage_property']:\n",
    "        endpts = list(np.mgrid[1:max(values):6j])\n",
    "    else:\n",
    "        endpts = list(np.mgrid[min(values):max(values):6j])\n",
    "        \n",
    "    colorscale = ['#fff7fb', '#ece7f2', '#d0d1e6', '#a6bddb', '#74a9cf', '#3690c0', \n",
    "                  '#0570b0', '#045a8d', '#023858']\n",
    "    fig = ff.create_choropleth(\n",
    "        fips=fips, values=values, scope=['Louisiana'], show_state_data=True,\n",
    "        colorscale=colorscale, binning_endpoints=endpts, \n",
    "        round_legend_values=True,\n",
    "        plot_bgcolor='rgb(229,229,229)',\n",
    "        paper_bgcolor='rgb(229,229,229)',\n",
    "        legend_title=parameter+' by Parish',\n",
    "        county_outline={'color': 'rgb(0,0,0)', 'width': 0.5},\n",
    "        #exponent_format=True,\n",
    "    )\n",
    "    fig.layout.template = None\n",
    "    fig.show()\n",
    "    \n",
    "    \n",
    "_ = interact(plot, year=range(1950, 2019), parameter=df.columns.tolist()[6:])"
   ]
  }
 ],
 "metadata": {
  "kernelspec": {
   "display_name": "Python 3",
   "language": "python",
   "name": "python3"
  },
  "language_info": {
   "codemirror_mode": {
    "name": "ipython",
    "version": 3
   },
   "file_extension": ".py",
   "mimetype": "text/x-python",
   "name": "python",
   "nbconvert_exporter": "python",
   "pygments_lexer": "ipython3",
   "version": "3.7.3"
  }
 },
 "nbformat": 4,
 "nbformat_minor": 2
}
